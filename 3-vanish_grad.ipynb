{
  "cells": [
    {
      "cell_type": "markdown",
      "metadata": {
        "id": "6oSH2DluSHW0"
      },
      "source": [
        "<center>\n",
        "<p><img src=\"https://mcd.unison.mx/wp-content/themes/awaken/img/logo_mcd.png\" width=\"150\">\n",
        "</p>\n",
        "\n",
        "\n",
        "\n",
        "<h1>Curso Procesamiento de Lenguaje Natural</h1>\n",
        "\n",
        "<h3>El problema del gradiente en las RNN vainilla</h3>\n",
        "\n",
        "\n",
        "<p> Julio Waissman Vilanova </p>\n",
        "<p>\n",
        "<img src=\"https://identidadbuho.unison.mx/wp-content/uploads/2019/06/letragrama-cmyk-72.jpg\" width=\"150\">\n",
        "</p>\n",
        "\n",
        "\n",
        "<a target=\"_blank\" href=\"https://colab.research.google.com/github/mcd-unison/pln/blob/main/labs/RNN/vanish-grad.ipynb\"><img src=\"https://i.ibb.co/2P3SLwK/colab.png\"  style=\"padding-bottom:5px;\"  width=\"30\" /> Ejecuta en Colab</a>\n",
        "\n",
        "<p>\n",
        "Tomado de libretas la libreta <i>C3_W3_Lecture_Notebook_Vanishing_Gradients.ipynb</i> de la  <i>Especialización en procesamiento de lenguaje natural</i> de <i>Deeplearning.ai</i>, disponible en <i>Coursera</i>.\n",
        "</p>\n",
        "\n",
        "\n",
        "</center>"
      ]
    },
    {
      "cell_type": "markdown",
      "metadata": {
        "id": "W7_QruK9SHW4"
      },
      "source": [
        "\n",
        "## Background\n",
        "Vanilla RNNs are prone to vanishing and exploding gradients when dealing with long sequences. Recall that the gradient with respect to $W_h$ is proportional to a sum of products:\n",
        "\n",
        "$$\\frac{\\delta L}{\\delta W_h} \\propto \\sum_{1\\le k\\le t} \\left(\\prod_{t\\ge i>k} \\frac{\\delta h_i}{\\delta h_{i-1}}\\right)\\frac{\\delta h_k}{\\delta W_h}$$\n",
        "\n",
        "where, for step $k$ far away from the place where the loss is computed ($t$), the product\n",
        "\n",
        "$$\\prod_{t\\ge i>k} \\frac{\\delta h_i}{\\delta h_{i-1}}$$\n",
        "\n",
        "can either go to 0 or infinity depending on the values of the partial derivative of the hidden state $\\frac{\\delta h_i}{\\delta h_{i-1}}$. In this ungraded lab, you will take a closer look at the partial derivative of the hidden state, and I'll show you how gradient problems arise when dealing with long sequences in vanilla RNNs.\n",
        "\n",
        "## Imports"
      ]
    },
    {
      "cell_type": "code",
      "execution_count": null,
      "metadata": {
        "tags": [],
        "id": "Qdguy5dYSHW4"
      },
      "outputs": [],
      "source": [
        "import numpy as np\n",
        "import matplotlib.pyplot as plt\n",
        "import ipywidgets as widgets\n",
        "from ipywidgets import interact, interactive, fixed, interact_manual\n",
        "\n",
        "%matplotlib inline"
      ]
    },
    {
      "cell_type": "markdown",
      "metadata": {
        "id": "DhNp1jlCSHW5"
      },
      "source": [
        "## Activations & Partial Derivative\n",
        "\n",
        "### Partial Derivative\n",
        "Recall that the hidden state at step $i$ is defined as:\n",
        "\n",
        "$$h_i= \\sigma(W_{hh} h_{i-1} + W_{hx} x_i + b_h)$$\n",
        "\n",
        "where $\\sigma$ is an activation function (usually sigmoid). So, you can use the chain rule to get the partial derivative:\n",
        "\n",
        "$$\\frac{\\delta h_i}{\\delta h_{i-1}} = W_{hh}^T \\text{diag} (\\sigma'(W_{hh} h_{i-1} + W_{hx} x_i + b_h))$$\n",
        "\n",
        "$W_h^T$ is the transpose of the weight matrix, and $\\sigma'$ is the gradient of the activation function. The gradient of the activation function is a vector of size equal to the hidden state size, and the $\\text{diag}$ converts that vector into a diagonal matrix. You <strong>don't have to worry about the calculus</strong> behind this derivative, and you only need to be familiar with the form it takes.  \n",
        "\n",
        "### Vanishing and Exploding Gradient Conditions\n",
        "\n",
        "When the product\n",
        "\n",
        "$$\\prod_{t\\ge i > k} \\frac{\\partial h_i}{\\partial h_{i-1}} = \\prod_{t\\ge i > k} W_{hh}^T \\text{diag} (\\sigma'(W_{hh} h_{i-1} + W_{hx} x_i + b_h))$$\n",
        "\n",
        "approaches 0, you face vanishing gradient problems where the contribution of item $k$ in the sequence is neglected. Conversely, when the product approaches infinity you will face exploding gradients and convergence problems arise. For that product approaching either of those values, two conditions need to be met:\n",
        "\n",
        "<ol>\n",
        "<li> Derivative of the activation function is bounded by some value $\\alpha$ </li>\n",
        "<li> The absolute value of the largest eigenvalue of the weight matrix $W_{hh}$ is lower than $\\frac{1}{\\alpha}$ (sufficient condition for vanishing gradient), or greater than $\\frac{1}{\\alpha}$ (necessary condition for exploding gradient).</li>\n",
        "</ol>\n",
        "\n",
        "### Activation\n",
        "\n",
        "So let's check the first condition for the sigmoid function. Run the cell below to get an interactive plot of the sigmoid function and its derivative at different points. Feel free to change the argument values to check if the derivative is bounded or not."
      ]
    },
    {
      "cell_type": "code",
      "execution_count": null,
      "metadata": {
        "id": "FVc--bvYSHW6",
        "outputId": "8aec72d5-7545-4588-a97b-524c4df6adf2",
        "colab": {
          "base_uri": "https://localhost:8080/",
          "height": 606,
          "referenced_widgets": [
            "0af891bf9518428d97420618bf4d8edd",
            "62ec1080c61e4847b1c90db27ef97e04",
            "e0e019d5a1114901863e9de5118af2f2",
            "65c3feb8435b43e884958eed3f347059",
            "5b2fd18de3314aad94a85c924906e390",
            "da02ad9be31f49d9ad5d0b3f7fe4c48a",
            "51009002fac14f96965108b04757c973"
          ]
        }
      },
      "outputs": [
        {
          "output_type": "display_data",
          "data": {
            "text/plain": [
              "interactive(children=(FloatSlider(value=0.0, description='x_tan', max=6.0, min=-6.0, step=0.5), Output()), _do…"
            ],
            "application/vnd.jupyter.widget-view+json": {
              "version_major": 2,
              "version_minor": 0,
              "model_id": "0af891bf9518428d97420618bf4d8edd"
            }
          },
          "metadata": {}
        },
        {
          "output_type": "execute_result",
          "data": {
            "text/plain": [
              "<function __main__.plot_func(x_tan=0)>"
            ],
            "text/html": [
              "<div style=\"max-width:800px; border: 1px solid var(--colab-border-color);\"><style>\n",
              "      pre.function-repr-contents {\n",
              "        overflow-x: auto;\n",
              "        padding: 8px 12px;\n",
              "        max-height: 500px;\n",
              "      }\n",
              "\n",
              "      pre.function-repr-contents.function-repr-contents-collapsed {\n",
              "        cursor: pointer;\n",
              "        max-height: 100px;\n",
              "      }\n",
              "    </style>\n",
              "    <pre style=\"white-space: initial; background:\n",
              "         var(--colab-secondary-surface-color); padding: 8px 12px;\n",
              "         border-bottom: 1px solid var(--colab-border-color);\"><b>plot_func</b><br/>def plot_func(x_tan=0)</pre><pre class=\"function-repr-contents function-repr-contents-collapsed\" style=\"\"><a class=\"filepath\" style=\"display:none\" href=\"#\">/content/&lt;ipython-input-3-445283b8f837&gt;</a>&lt;no docstring&gt;</pre></div>"
            ]
          },
          "metadata": {},
          "execution_count": 3
        }
      ],
      "source": [
        "# Data\n",
        "\n",
        "### START CODE HERE ###\n",
        "x = np.linspace(-85, 90, 100)  # try changing the range of values in the data. eg: (-100,100,1000)\n",
        "### END CODE HERE ###\n",
        "# Activation\n",
        "# Interval [0, 1]\n",
        "def sigmoid(x):\n",
        "    return 1 / (1 + np.exp(-x))\n",
        "\n",
        "activations = sigmoid(x)\n",
        "\n",
        "# Gradient\n",
        "# Interval [0, 0.25]\n",
        "def sigmoid_gradient(x):\n",
        "    return sigmoid(x) * (1 - sigmoid(x))\n",
        "\n",
        "# Add the tangent line\n",
        "def plot_func(x_tan = 0):\n",
        "    plt.plot(x, activations)\n",
        "    plt.title(\"Sigmoid Function and Gradient\")\n",
        "    plt.xlabel(\"$x$\")\n",
        "    plt.ylabel(\"sigmoid($x$)\")\n",
        "    plt.text(x_tan, sigmoid(x_tan), f\"Gradient: {sigmoid_gradient(x_tan):.4f}\")\n",
        "    plt.xlim((-6,6))\n",
        "    plt.ylim((-0.5,1.5))\n",
        "    plt.rcParams['figure.figsize'] = [7, 5]\n",
        "    y_tan = sigmoid(x_tan)  # y value\n",
        "    span = 4 # line span along x axis\n",
        "    data_tan = np.linspace(x_tan - span, x_tan + span)  # x values to plot\n",
        "    gradient_tan = sigmoid_gradient(x_tan)     # gradient of the tangent\n",
        "    tan = y_tan + gradient_tan * (data_tan - x_tan)     # y values to plot\n",
        "    plt.plot(x_tan, y_tan, marker=\"o\", color=\"orange\", label=True)  # marker\n",
        "    plt.plot(data_tan, tan, linestyle=\"--\", color=\"orange\")         # line\n",
        "    plt.show()\n",
        "\n",
        "interact(plot_func, x_tan = widgets.FloatSlider(value=0,\n",
        "                                            min=-6,\n",
        "                                            max=6,\n",
        "                                            step=0.5))"
      ]
    },
    {
      "cell_type": "markdown",
      "metadata": {
        "id": "hSZ9trN7SHW6"
      },
      "source": [
        "As you checked, the derivative of the sigmoid function is bounded by $\\alpha=\\frac{1}{4}$. So vanishing gradient problems will arise for long-term components if the largest eigenvalue of $W_{hh}$ is lower than 4, and exploding gradient problems will happen if the largest eigenvalue is larger than 4."
      ]
    },
    {
      "cell_type": "markdown",
      "metadata": {
        "id": "54d5ATIASHW6"
      },
      "source": [
        "## Vanishing Gradient with Sigmoid Activation"
      ]
    },
    {
      "cell_type": "markdown",
      "metadata": {
        "id": "Br_KNyz1SHW6"
      },
      "source": [
        "Let's generate a random checkpoint for an RNN model and assume that the sequences are of length $t=20$:"
      ]
    },
    {
      "cell_type": "code",
      "execution_count": null,
      "metadata": {
        "id": "qM87y6BGSHW7"
      },
      "outputs": [],
      "source": [
        "np.random.seed(12345)\n",
        "t = 20\n",
        "h = np.random.randn(5,t)\n",
        "x = np.random.randn(5,t)"
      ]
    },
    {
      "cell_type": "code",
      "execution_count": null,
      "metadata": {
        "id": "KfviILOmSHW7"
      },
      "outputs": [],
      "source": [
        "b_h = np.random.randn(5,1)\n",
        "W_hx = np.random.randn(5,5)"
      ]
    },
    {
      "cell_type": "markdown",
      "metadata": {
        "id": "_mNHIKBASHW7"
      },
      "source": [
        "In the next cell, you will create a random matrix $W_{hh}$ with eigenvalues lower than four."
      ]
    },
    {
      "cell_type": "code",
      "execution_count": null,
      "metadata": {
        "id": "F5xjijmnSHW7"
      },
      "outputs": [],
      "source": [
        "eig = np.random.rand(5) * 4 #Random eigenvalues lower than 4\n",
        "Q = np.random.randn(5,5) #Random eigenvectors stacked in matrix Q\n",
        "W_hh = Q @ np.diag(eig) @ np.linalg.inv(Q) #W_hh"
      ]
    },
    {
      "cell_type": "markdown",
      "metadata": {
        "id": "0IsnHdjmSHW7"
      },
      "source": [
        "Finally, let us define the product function for a determined step $k$."
      ]
    },
    {
      "cell_type": "code",
      "execution_count": null,
      "metadata": {
        "id": "DQgWJKP9SHW8"
      },
      "outputs": [],
      "source": [
        "def prod(k):\n",
        "    p = 1\n",
        "    for i in range(t-1, k-2, -1):\n",
        "        p *= W_hh.T @ np.diag(sigmoid_gradient(W_hh@h[:,i] + W_hx@x[:,i] + b_h))\n",
        "    return p"
      ]
    },
    {
      "cell_type": "markdown",
      "metadata": {
        "id": "_xHPe8CUSHW8"
      },
      "source": [
        "Now, you can plot the contribution to the gradient for different steps $k$."
      ]
    },
    {
      "cell_type": "code",
      "execution_count": null,
      "metadata": {
        "id": "2TyfOM5DSHW8",
        "outputId": "ea69063c-ba5c-432c-c031-b08ab361f2a7",
        "colab": {
          "base_uri": "https://localhost:8080/",
          "height": 489
        }
      },
      "outputs": [
        {
          "output_type": "display_data",
          "data": {
            "text/plain": [
              "<Figure size 700x500 with 1 Axes>"
            ],
            "image/png": "[encoded data removed]"
          },
          "metadata": {}
        }
      ],
      "source": [
        "product = np.zeros(20)\n",
        "for k in range(t):\n",
        "    product[k] = np.max(prod(k+1))\n",
        "\n",
        "plt.plot(np.array(range(t))+1, product)\n",
        "plt.title(\"Maximum contribution to the gradient at step $k$\");\n",
        "plt.xlabel(\"k\");\n",
        "plt.ylabel(\"Maximum contribution\");\n",
        "plt.xticks(np.array(range(t))+1);"
      ]
    },
    {
      "cell_type": "markdown",
      "metadata": {
        "id": "eSsSpPtnSHW8"
      },
      "source": [
        "With the largest eigenvalue of the weight matrix $W_{hh}$ being lower than 4 --with a sigmoid activation function, the contribution of the early items in the sequence to the gradient go to zero. In practice, this will make your RNN rely only upon the most recent items in the series."
      ]
    },
    {
      "cell_type": "markdown",
      "metadata": {
        "id": "2a0KGraFSHW8"
      },
      "source": [
        "## Exploding Gradient with Sigmoid Activation"
      ]
    },
    {
      "cell_type": "markdown",
      "metadata": {
        "id": "CorZsM34SHW8"
      },
      "source": [
        "An essential difference with the vanishing gradient problem is that the condition for exploding gradients is necessary but not sufficient. Therefore, it is very likely that you will face vanishing gradients rather than exploding gradient problems. However, let's fabricate an example for exploding gradients."
      ]
    },
    {
      "cell_type": "code",
      "execution_count": null,
      "metadata": {
        "id": "Qa72vH-dSHW8"
      },
      "outputs": [],
      "source": [
        "np.random.seed(12345)\n",
        "t = 20\n",
        "h = np.zeros((5,t))\n",
        "x = np.zeros((5,t))"
      ]
    },
    {
      "cell_type": "code",
      "execution_count": null,
      "metadata": {
        "id": "4rl8KyHaSHW8"
      },
      "outputs": [],
      "source": [
        "b_h = np.zeros((5,1))\n",
        "W_hx = np.random.randn(5,5)"
      ]
    },
    {
      "cell_type": "markdown",
      "metadata": {
        "id": "cpXWoAzHSHW8"
      },
      "source": [
        "In the next cell, a random matrix $W_{hh}$ with eigenvalues greater than 4 is created"
      ]
    },
    {
      "cell_type": "code",
      "execution_count": null,
      "metadata": {
        "id": "Esos8mp2SHW9"
      },
      "outputs": [],
      "source": [
        "eig = 4 + np.random.rand(5)*10 #Random eigenvalues greater than 4\n",
        "Q = np.random.randn(5,5) #Random eigenvectors stacked in matrix Q\n",
        "W_hh = Q@np.diag(eig)@np.linalg.inv(Q) #W_hh"
      ]
    },
    {
      "cell_type": "markdown",
      "metadata": {
        "id": "4XI-D7BBSHW9"
      },
      "source": [
        "Now, you can plot the contribution to the gradient for different steps $k$."
      ]
    },
    {
      "cell_type": "code",
      "execution_count": null,
      "metadata": {
        "id": "gWoHKkqHSHW9",
        "outputId": "5a1fc1dd-21de-482b-a5d5-bb40ce525463",
        "colab": {
          "base_uri": "https://localhost:8080/",
          "height": 489
        }
      },
      "outputs": [
        {
          "output_type": "display_data",
          "data": {
            "text/plain": [
              "<Figure size 700x500 with 1 Axes>"
            ],
            "image/png": "[encoded data removed]"
          },
          "metadata": {}
        }
      ],
      "source": [
        "product = np.zeros(20)\n",
        "for k in range(t):\n",
        "    product[k] = np.max(prod(k+1))\n",
        "\n",
        "plt.plot(np.array(range(t))+1, product)\n",
        "plt.title(\"Maximum contribution to the gradient at step $k$\");\n",
        "plt.xlabel(\"k\");\n",
        "plt.ylabel(\"Maximum contribution\");\n",
        "plt.xticks(np.array(range(t))+1);"
      ]
    },
    {
      "cell_type": "markdown",
      "metadata": {
        "id": "s_Crl6M8SHW-"
      },
      "source": [
        "With the largest eigenvalue of the weight matrix $W_{hh}$ being greater than 4 --with a sigmoid activation function, the contribution of the early items in the sequence to the gradient goes to infinity. In practice, this will make you face convergence problems during training."
      ]
    },
    {
      "cell_type": "markdown",
      "metadata": {
        "id": "k9w1IN4wSHW-"
      },
      "source": [
        "Now you are more familiar with the conditions for vanishing and exploding gradient problems. You should take away that for vanishing gradient it is <strong>sufficient</strong> to satisfy an eigenvalue condition, while for the exploding gradient problem it is <strong>neccesary</strong> but not enough. I used the weight matrix $W_{hh}$ in this discussion, but everything exposed here also applies for $W_{hx}$."
      ]
    },
    {
      "cell_type": "markdown",
      "metadata": {
        "id": "rYPZafHJSHW-"
      },
      "source": [
        "## Solution\n",
        "One solution is to use RNN architectures specially designed to avoid these problems (like GRUs and LSTMs). Other solutions involve skip-connections or gradient clipping. But those are both discussions for another time."
      ]
    }
  ],
  "metadata": {
    "kernelspec": {
      "display_name": "Python 3",
      "language": "python",
      "name": "python3"
    },
    "language_info": {
      "codemirror_mode": {
        "name": "ipython",
        "version": 3
      },
      "file_extension": ".py",
      "mimetype": "text/x-python",
      "name": "python",
      "nbconvert_exporter": "python",
      "pygments_lexer": "ipython3",
      "version": "3.8.13"
    },
    "colab": {
      "provenance": []
    },
    "widgets": {
      "application/vnd.jupyter.widget-state+json": {
        "0af891bf9518428d97420618bf4d8edd": {
          "model_module": "@jupyter-widgets/controls",
          "model_name": "VBoxModel",
          "model_module_version": "1.5.0",
          "state": {
            "_dom_classes": [
              "widget-interact"
            ],
            "_model_module": "@jupyter-widgets/controls",
            "_model_module_version": "1.5.0",
            "_model_name": "VBoxModel",
            "_view_count": null,
            "_view_module": "@jupyter-widgets/controls",
            "_view_module_version": "1.5.0",
            "_view_name": "VBoxView",
            "box_style": "",
            "children": [
              "IPY_MODEL_62ec1080c61e4847b1c90db27ef97e04",
              "IPY_MODEL_e0e019d5a1114901863e9de5118af2f2"
            ],
            "layout": "IPY_MODEL_65c3feb8435b43e884958eed3f347059"
          }
        },
        "62ec1080c61e4847b1c90db27ef97e04": {
          "model_module": "@jupyter-widgets/controls",
          "model_name": "FloatSliderModel",
          "model_module_version": "1.5.0",
          "state": {
            "_dom_classes": [],
            "_model_module": "@jupyter-widgets/controls",
            "_model_module_version": "1.5.0",
            "_model_name": "FloatSliderModel",
            "_view_count": null,
            "_view_module": "@jupyter-widgets/controls",
            "_view_module_version": "1.5.0",
            "_view_name": "FloatSliderView",
            "continuous_update": true,
            "description": "x_tan",
            "description_tooltip": null,
            "disabled": false,
            "layout": "IPY_MODEL_5b2fd18de3314aad94a85c924906e390",
            "max": 6,
            "min": -6,
            "orientation": "horizontal",
            "readout": true,
            "readout_format": ".2f",
            "step": 0.5,
            "style": "IPY_MODEL_da02ad9be31f49d9ad5d0b3f7fe4c48a",
            "value": 0
          }
        },
        "e0e019d5a1114901863e9de5118af2f2": {
          "model_module": "@jupyter-widgets/output",
          "model_name": "OutputModel",
          "model_module_version": "1.0.0",
          "state": {
            "_dom_classes": [],
            "_model_module": "@jupyter-widgets/output",
            "_model_module_version": "1.0.0",
            "_model_name": "OutputModel",
            "_view_count": null,
            "_view_module": "@jupyter-widgets/output",
            "_view_module_version": "1.0.0",
            "_view_name": "OutputView",
            "layout": "IPY_MODEL_51009002fac14f96965108b04757c973",
            "msg_id": "",
            "outputs": [
              {
                "output_type": "display_data",
                "data": {
                  "text/plain": "<Figure size 700x500 with 1 Axes>",
                  "image/png": "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\n"
                },
                "metadata": {}
              }
            ]
          }
        },
        "65c3feb8435b43e884958eed3f347059": {
          "model_module": "@jupyter-widgets/base",
          "model_name": "LayoutModel",
          "model_module_version": "1.2.0",
          "state": {
            "_model_module": "@jupyter-widgets/base",
            "_model_module_version": "1.2.0",
            "_model_name": "LayoutModel",
            "_view_count": null,
            "_view_module": "@jupyter-widgets/base",
            "_view_module_version": "1.2.0",
            "_view_name": "LayoutView",
            "align_content": null,
            "align_items": null,
            "align_self": null,
            "border": null,
            "bottom": null,
            "display": null,
            "flex": null,
            "flex_flow": null,
            "grid_area": null,
            "grid_auto_columns": null,
            "grid_auto_flow": null,
            "grid_auto_rows": null,
            "grid_column": null,
            "grid_gap": null,
            "grid_row": null,
            "grid_template_areas": null,
            "grid_template_columns": null,
            "grid_template_rows": null,
            "height": null,
            "justify_content": null,
            "justify_items": null,
            "left": null,
            "margin": null,
            "max_height": null,
            "max_width": null,
            "min_height": null,
            "min_width": null,
            "object_fit": null,
            "object_position": null,
            "order": null,
            "overflow": null,
            "overflow_x": null,
            "overflow_y": null,
            "padding": null,
            "right": null,
            "top": null,
            "visibility": null,
            "width": null
          }
        },
        "5b2fd18de3314aad94a85c924906e390": {
          "model_module": "@jupyter-widgets/base",
          "model_name": "LayoutModel",
          "model_module_version": "1.2.0",
          "state": {
            "_model_module": "@jupyter-widgets/base",
            "_model_module_version": "1.2.0",
            "_model_name": "LayoutModel",
            "_view_count": null,
            "_view_module": "@jupyter-widgets/base",
            "_view_module_version": "1.2.0",
            "_view_name": "LayoutView",
            "align_content": null,
            "align_items": null,
            "align_self": null,
            "border": null,
            "bottom": null,
            "display": null,
            "flex": null,
            "flex_flow": null,
            "grid_area": null,
            "grid_auto_columns": null,
            "grid_auto_flow": null,
            "grid_auto_rows": null,
            "grid_column": null,
            "grid_gap": null,
            "grid_row": null,
            "grid_template_areas": null,
            "grid_template_columns": null,
            "grid_template_rows": null,
            "height": null,
            "justify_content": null,
            "justify_items": null,
            "left": null,
            "margin": null,
            "max_height": null,
            "max_width": null,
            "min_height": null,
            "min_width": null,
            "object_fit": null,
            "object_position": null,
            "order": null,
            "overflow": null,
            "overflow_x": null,
            "overflow_y": null,
            "padding": null,
            "right": null,
            "top": null,
            "visibility": null,
            "width": null
          }
        },
        "da02ad9be31f49d9ad5d0b3f7fe4c48a": {
          "model_module": "@jupyter-widgets/controls",
          "model_name": "SliderStyleModel",
          "model_module_version": "1.5.0",
          "state": {
            "_model_module": "@jupyter-widgets/controls",
            "_model_module_version": "1.5.0",
            "_model_name": "SliderStyleModel",
            "_view_count": null,
            "_view_module": "@jupyter-widgets/base",
            "_view_module_version": "1.2.0",
            "_view_name": "StyleView",
            "description_width": "",
            "handle_color": null
          }
        },
        "51009002fac14f96965108b04757c973": {
          "model_module": "@jupyter-widgets/base",
          "model_name": "LayoutModel",
          "model_module_version": "1.2.0",
          "state": {
            "_model_module": "@jupyter-widgets/base",
            "_model_module_version": "1.2.0",
            "_model_name": "LayoutModel",
            "_view_count": null,
            "_view_module": "@jupyter-widgets/base",
            "_view_module_version": "1.2.0",
            "_view_name": "LayoutView",
            "align_content": null,
            "align_items": null,
            "align_self": null,
            "border": null,
            "bottom": null,
            "display": null,
            "flex": null,
            "flex_flow": null,
            "grid_area": null,
            "grid_auto_columns": null,
            "grid_auto_flow": null,
            "grid_auto_rows": null,
            "grid_column": null,
            "grid_gap": null,
            "grid_row": null,
            "grid_template_areas": null,
            "grid_template_columns": null,
            "grid_template_rows": null,
            "height": null,
            "justify_content": null,
            "justify_items": null,
            "left": null,
            "margin": null,
            "max_height": null,
            "max_width": null,
            "min_height": null,
            "min_width": null,
            "object_fit": null,
            "object_position": null,
            "order": null,
            "overflow": null,
            "overflow_x": null,
            "overflow_y": null,
            "padding": null,
            "right": null,
            "top": null,
            "visibility": null,
            "width": null
          }
        }
      }
    }
  },
  "nbformat": 4,
  "nbformat_minor": 0
}